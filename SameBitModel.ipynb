{
 "cells": [
  {
   "cell_type": "code",
   "execution_count": null,
   "id": "2b941737",
   "metadata": {},
   "outputs": [],
   "source": [
    "from BitModel import *  # Importing the functions"
   ]
  },
  {
   "cell_type": "code",
   "execution_count": null,
   "id": "8261c6f4",
   "metadata": {},
   "outputs": [],
   "source": []
  },
  {
   "cell_type": "code",
   "execution_count": null,
   "id": "25ec7d04",
   "metadata": {},
   "outputs": [],
   "source": []
  }
 ],
 "metadata": {},
 "nbformat": 4,
 "nbformat_minor": 5
}
